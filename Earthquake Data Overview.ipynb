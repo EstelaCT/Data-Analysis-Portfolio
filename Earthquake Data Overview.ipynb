{
 "cells": [
  {
   "cell_type": "markdown",
   "id": "dfe9a9f2",
   "metadata": {},
   "source": [
    "### **Earthquake Data Overview**"
   ]
  },
  {
   "cell_type": "markdown",
   "id": "e2341336",
   "metadata": {},
   "source": [
    "####'''\n",
    "This dataset provides a comprehensive look at synthetic seismic activity, crafted based on real data, in various regions worldwide.   \n",
    "The data spans diverse geographic areas, offering valuable insights into regions susceptible to seismic events.\n",
    "'''"
   ]
  },
  {
   "cell_type": "markdown",
   "id": "11b48e4a",
   "metadata": {},
   "source": [
    "'''\n",
    "Objectives:\n",
    "1. Continents with more frequency of earthquakes.\n",
    "2. Top 5 earthquakes with the largest magnitude and the lowest one.\n",
    "3. Range of magnitude\n",
    "'''\n",
    "\n",
    "#Data source: Earthquake Data Overview from Kaggle"
   ]
  },
  {
   "cell_type": "markdown",
   "id": "759ddbaf",
   "metadata": {},
   "source": [
    "#### Importing and Getting to know the dataset"
   ]
  },
  {
   "cell_type": "code",
   "execution_count": 2,
   "id": "a54d7d36",
   "metadata": {},
   "outputs": [],
   "source": [
    "import pandas as pd"
   ]
  },
  {
   "cell_type": "code",
   "execution_count": 3,
   "id": "ec78ca1d",
   "metadata": {},
   "outputs": [],
   "source": [
    "df= pd.read_csv (\"C:\\\\Users\\\\estel\\\\Desktop\\\\Data Analysis Projects\\\\earthquake_dataset.csv\")"
   ]
  },
  {
   "cell_type": "code",
   "execution_count": 4,
   "id": "0e347e8c",
   "metadata": {},
   "outputs": [
    {
     "name": "stdout",
     "output_type": "stream",
     "text": [
      "<class 'pandas.core.frame.DataFrame'>\n",
      "RangeIndex: 1265 entries, 0 to 1264\n",
      "Data columns (total 6 columns):\n",
      " #   Column      Non-Null Count  Dtype  \n",
      "---  ------      --------------  -----  \n",
      " 0   Place       1265 non-null   object \n",
      " 1    Latitude   1265 non-null   float64\n",
      " 2    Longitude  1265 non-null   float64\n",
      " 3    Country    1265 non-null   object \n",
      " 4    Continent  1265 non-null   object \n",
      " 5    Magnitude  1265 non-null   float64\n",
      "dtypes: float64(3), object(3)\n",
      "memory usage: 59.4+ KB\n"
     ]
    }
   ],
   "source": [
    "df.info()"
   ]
  },
  {
   "cell_type": "code",
   "execution_count": 5,
   "id": "e129751d",
   "metadata": {},
   "outputs": [],
   "source": [
    "# Removing the blank spaces in front of the columns names\n",
    "df.columns = df.columns.str.replace (' ','')"
   ]
  },
  {
   "cell_type": "code",
   "execution_count": 6,
   "id": "d97ba3e1",
   "metadata": {},
   "outputs": [
    {
     "name": "stdout",
     "output_type": "stream",
     "text": [
      "<class 'pandas.core.frame.DataFrame'>\n",
      "RangeIndex: 1265 entries, 0 to 1264\n",
      "Data columns (total 6 columns):\n",
      " #   Column     Non-Null Count  Dtype  \n",
      "---  ------     --------------  -----  \n",
      " 0   Place      1265 non-null   object \n",
      " 1   Latitude   1265 non-null   float64\n",
      " 2   Longitude  1265 non-null   float64\n",
      " 3   Country    1265 non-null   object \n",
      " 4   Continent  1265 non-null   object \n",
      " 5   Magnitude  1265 non-null   float64\n",
      "dtypes: float64(3), object(3)\n",
      "memory usage: 59.4+ KB\n"
     ]
    }
   ],
   "source": [
    "df.info()"
   ]
  },
  {
   "cell_type": "code",
   "execution_count": 7,
   "id": "ba1d13c9",
   "metadata": {},
   "outputs": [
    {
     "data": {
      "text/html": [
       "<div>\n",
       "<style scoped>\n",
       "    .dataframe tbody tr th:only-of-type {\n",
       "        vertical-align: middle;\n",
       "    }\n",
       "\n",
       "    .dataframe tbody tr th {\n",
       "        vertical-align: top;\n",
       "    }\n",
       "\n",
       "    .dataframe thead th {\n",
       "        text-align: right;\n",
       "    }\n",
       "</style>\n",
       "<table border=\"1\" class=\"dataframe\">\n",
       "  <thead>\n",
       "    <tr style=\"text-align: right;\">\n",
       "      <th></th>\n",
       "      <th>Place</th>\n",
       "      <th>Latitude</th>\n",
       "      <th>Longitude</th>\n",
       "      <th>Country</th>\n",
       "      <th>Continent</th>\n",
       "      <th>Magnitude</th>\n",
       "    </tr>\n",
       "  </thead>\n",
       "  <tbody>\n",
       "    <tr>\n",
       "      <th>0</th>\n",
       "      <td>Bamako</td>\n",
       "      <td>12.6354</td>\n",
       "      <td>-8.0023</td>\n",
       "      <td>Mali</td>\n",
       "      <td>Africa</td>\n",
       "      <td>4.7</td>\n",
       "    </tr>\n",
       "    <tr>\n",
       "      <th>1</th>\n",
       "      <td>Niamey</td>\n",
       "      <td>13.5130</td>\n",
       "      <td>2.1151</td>\n",
       "      <td>Niger</td>\n",
       "      <td>Africa</td>\n",
       "      <td>5.7</td>\n",
       "    </tr>\n",
       "    <tr>\n",
       "      <th>2</th>\n",
       "      <td>Southern Chile</td>\n",
       "      <td>-39.8234</td>\n",
       "      <td>-73.0691</td>\n",
       "      <td>Chile</td>\n",
       "      <td>South America</td>\n",
       "      <td>4.9</td>\n",
       "    </tr>\n",
       "    <tr>\n",
       "      <th>3</th>\n",
       "      <td>Freetown</td>\n",
       "      <td>8.4815</td>\n",
       "      <td>-13.2315</td>\n",
       "      <td>Sierra Leone</td>\n",
       "      <td>Africa</td>\n",
       "      <td>4.8</td>\n",
       "    </tr>\n",
       "    <tr>\n",
       "      <th>4</th>\n",
       "      <td>Bamako</td>\n",
       "      <td>12.6422</td>\n",
       "      <td>-7.9990</td>\n",
       "      <td>Mali</td>\n",
       "      <td>Africa</td>\n",
       "      <td>5.3</td>\n",
       "    </tr>\n",
       "  </tbody>\n",
       "</table>\n",
       "</div>"
      ],
      "text/plain": [
       "            Place  Latitude  Longitude        Country       Continent  \\\n",
       "0          Bamako   12.6354    -8.0023           Mali          Africa   \n",
       "1          Niamey   13.5130     2.1151          Niger          Africa   \n",
       "2  Southern Chile  -39.8234   -73.0691          Chile   South America   \n",
       "3        Freetown    8.4815   -13.2315   Sierra Leone          Africa   \n",
       "4          Bamako   12.6422    -7.9990           Mali          Africa   \n",
       "\n",
       "   Magnitude  \n",
       "0        4.7  \n",
       "1        5.7  \n",
       "2        4.9  \n",
       "3        4.8  \n",
       "4        5.3  "
      ]
     },
     "execution_count": 7,
     "metadata": {},
     "output_type": "execute_result"
    }
   ],
   "source": [
    "df.head()"
   ]
  },
  {
   "cell_type": "code",
   "execution_count": 8,
   "id": "ad7f8730",
   "metadata": {},
   "outputs": [
    {
     "data": {
      "text/html": [
       "<div>\n",
       "<style scoped>\n",
       "    .dataframe tbody tr th:only-of-type {\n",
       "        vertical-align: middle;\n",
       "    }\n",
       "\n",
       "    .dataframe tbody tr th {\n",
       "        vertical-align: top;\n",
       "    }\n",
       "\n",
       "    .dataframe thead th {\n",
       "        text-align: right;\n",
       "    }\n",
       "</style>\n",
       "<table border=\"1\" class=\"dataframe\">\n",
       "  <thead>\n",
       "    <tr style=\"text-align: right;\">\n",
       "      <th></th>\n",
       "      <th>Place</th>\n",
       "      <th>Latitude</th>\n",
       "      <th>Longitude</th>\n",
       "      <th>Country</th>\n",
       "      <th>Continent</th>\n",
       "      <th>Magnitude</th>\n",
       "    </tr>\n",
       "  </thead>\n",
       "  <tbody>\n",
       "    <tr>\n",
       "      <th>1260</th>\n",
       "      <td>Banjul</td>\n",
       "      <td>13.4498</td>\n",
       "      <td>-16.5883</td>\n",
       "      <td>Gambia</td>\n",
       "      <td>Africa</td>\n",
       "      <td>4.7</td>\n",
       "    </tr>\n",
       "    <tr>\n",
       "      <th>1261</th>\n",
       "      <td>Dakar</td>\n",
       "      <td>14.6920</td>\n",
       "      <td>-17.4459</td>\n",
       "      <td>Senegal</td>\n",
       "      <td>Africa</td>\n",
       "      <td>4.7</td>\n",
       "    </tr>\n",
       "    <tr>\n",
       "      <th>1262</th>\n",
       "      <td>Yamoussoukro</td>\n",
       "      <td>6.8198</td>\n",
       "      <td>-5.2756</td>\n",
       "      <td>Côte d'Ivoire</td>\n",
       "      <td>Africa</td>\n",
       "      <td>4.7</td>\n",
       "    </tr>\n",
       "    <tr>\n",
       "      <th>1263</th>\n",
       "      <td>Banjul</td>\n",
       "      <td>13.4528</td>\n",
       "      <td>-16.5874</td>\n",
       "      <td>Gambia</td>\n",
       "      <td>Africa</td>\n",
       "      <td>4.8</td>\n",
       "    </tr>\n",
       "    <tr>\n",
       "      <th>1264</th>\n",
       "      <td>Abidjan</td>\n",
       "      <td>5.3605</td>\n",
       "      <td>-4.0111</td>\n",
       "      <td>Côte d'Ivoire</td>\n",
       "      <td>Africa</td>\n",
       "      <td>5.8</td>\n",
       "    </tr>\n",
       "  </tbody>\n",
       "</table>\n",
       "</div>"
      ],
      "text/plain": [
       "             Place  Latitude  Longitude         Country Continent  Magnitude\n",
       "1260        Banjul   13.4498   -16.5883          Gambia    Africa        4.7\n",
       "1261         Dakar   14.6920   -17.4459         Senegal    Africa        4.7\n",
       "1262  Yamoussoukro    6.8198    -5.2756   Côte d'Ivoire    Africa        4.7\n",
       "1263        Banjul   13.4528   -16.5874          Gambia    Africa        4.8\n",
       "1264       Abidjan    5.3605    -4.0111   Côte d'Ivoire    Africa        5.8"
      ]
     },
     "execution_count": 8,
     "metadata": {},
     "output_type": "execute_result"
    }
   ],
   "source": [
    "df.tail()"
   ]
  },
  {
   "cell_type": "code",
   "execution_count": 9,
   "id": "59bd56dc",
   "metadata": {},
   "outputs": [
    {
     "data": {
      "text/plain": [
       "Place         167\n",
       "Latitude     1153\n",
       "Longitude    1220\n",
       "Country       123\n",
       "Continent       7\n",
       "Magnitude      21\n",
       "dtype: int64"
      ]
     },
     "execution_count": 9,
     "metadata": {},
     "output_type": "execute_result"
    }
   ],
   "source": [
    "df.nunique()"
   ]
  },
  {
   "cell_type": "markdown",
   "id": "846cd46b",
   "metadata": {},
   "source": [
    "#### **Continents with more frequency of earthquakes.**"
   ]
  },
  {
   "cell_type": "code",
   "execution_count": 14,
   "id": "81bb35d9",
   "metadata": {},
   "outputs": [
    {
     "data": {
      "text/html": [
       "<div>\n",
       "<style scoped>\n",
       "    .dataframe tbody tr th:only-of-type {\n",
       "        vertical-align: middle;\n",
       "    }\n",
       "\n",
       "    .dataframe tbody tr th {\n",
       "        vertical-align: top;\n",
       "    }\n",
       "\n",
       "    .dataframe thead th {\n",
       "        text-align: right;\n",
       "    }\n",
       "</style>\n",
       "<table border=\"1\" class=\"dataframe\">\n",
       "  <thead>\n",
       "    <tr style=\"text-align: right;\">\n",
       "      <th></th>\n",
       "      <th>Place</th>\n",
       "      <th>Latitude</th>\n",
       "      <th>Longitude</th>\n",
       "      <th>Country</th>\n",
       "      <th>Magnitude</th>\n",
       "    </tr>\n",
       "    <tr>\n",
       "      <th>Continent</th>\n",
       "      <th></th>\n",
       "      <th></th>\n",
       "      <th></th>\n",
       "      <th></th>\n",
       "      <th></th>\n",
       "    </tr>\n",
       "  </thead>\n",
       "  <tbody>\n",
       "    <tr>\n",
       "      <th>Africa</th>\n",
       "      <td>580</td>\n",
       "      <td>580</td>\n",
       "      <td>580</td>\n",
       "      <td>580</td>\n",
       "      <td>580</td>\n",
       "    </tr>\n",
       "    <tr>\n",
       "      <th>North America</th>\n",
       "      <td>190</td>\n",
       "      <td>190</td>\n",
       "      <td>190</td>\n",
       "      <td>190</td>\n",
       "      <td>190</td>\n",
       "    </tr>\n",
       "    <tr>\n",
       "      <th>Asia</th>\n",
       "      <td>155</td>\n",
       "      <td>155</td>\n",
       "      <td>155</td>\n",
       "      <td>155</td>\n",
       "      <td>155</td>\n",
       "    </tr>\n",
       "    <tr>\n",
       "      <th>Europe</th>\n",
       "      <td>135</td>\n",
       "      <td>135</td>\n",
       "      <td>135</td>\n",
       "      <td>135</td>\n",
       "      <td>135</td>\n",
       "    </tr>\n",
       "    <tr>\n",
       "      <th>South America</th>\n",
       "      <td>90</td>\n",
       "      <td>90</td>\n",
       "      <td>90</td>\n",
       "      <td>90</td>\n",
       "      <td>90</td>\n",
       "    </tr>\n",
       "    <tr>\n",
       "      <th>Antarctica</th>\n",
       "      <td>70</td>\n",
       "      <td>70</td>\n",
       "      <td>70</td>\n",
       "      <td>70</td>\n",
       "      <td>70</td>\n",
       "    </tr>\n",
       "    <tr>\n",
       "      <th>Oceania</th>\n",
       "      <td>45</td>\n",
       "      <td>45</td>\n",
       "      <td>45</td>\n",
       "      <td>45</td>\n",
       "      <td>45</td>\n",
       "    </tr>\n",
       "  </tbody>\n",
       "</table>\n",
       "</div>"
      ],
      "text/plain": [
       "                Place  Latitude  Longitude  Country  Magnitude\n",
       "Continent                                                     \n",
       " Africa           580       580        580      580        580\n",
       " North America    190       190        190      190        190\n",
       " Asia             155       155        155      155        155\n",
       " Europe           135       135        135      135        135\n",
       " South America     90        90         90       90         90\n",
       " Antarctica        70        70         70       70         70\n",
       " Oceania           45        45         45       45         45"
      ]
     },
     "execution_count": 14,
     "metadata": {},
     "output_type": "execute_result"
    }
   ],
   "source": [
    "df_continent = df.groupby('Continent').count()\n",
    "\n",
    "df_continent.sort_values('Magnitude', ascending= False)"
   ]
  },
  {
   "cell_type": "code",
   "execution_count": 16,
   "id": "b8138678",
   "metadata": {},
   "outputs": [],
   "source": [
    "continent_mean = df.groupby('Continent')['Magnitude'].mean()"
   ]
  },
  {
   "cell_type": "code",
   "execution_count": 18,
   "id": "04ff08d2",
   "metadata": {},
   "outputs": [],
   "source": [
    "import matplotlib.pyplot as plt"
   ]
  },
  {
   "cell_type": "markdown",
   "id": "6f3f28d9",
   "metadata": {},
   "source": [
    "#### Top 5 earthquakes with the largest magnitude and the 5 lowest ones."
   ]
  },
  {
   "cell_type": "code",
   "execution_count": 21,
   "id": "a4228db0",
   "metadata": {},
   "outputs": [
    {
     "data": {
      "text/html": [
       "<div>\n",
       "<style scoped>\n",
       "    .dataframe tbody tr th:only-of-type {\n",
       "        vertical-align: middle;\n",
       "    }\n",
       "\n",
       "    .dataframe tbody tr th {\n",
       "        vertical-align: top;\n",
       "    }\n",
       "\n",
       "    .dataframe thead th {\n",
       "        text-align: right;\n",
       "    }\n",
       "</style>\n",
       "<table border=\"1\" class=\"dataframe\">\n",
       "  <thead>\n",
       "    <tr style=\"text-align: right;\">\n",
       "      <th></th>\n",
       "      <th>Place</th>\n",
       "      <th>Latitude</th>\n",
       "      <th>Longitude</th>\n",
       "      <th>Country</th>\n",
       "      <th>Continent</th>\n",
       "      <th>Magnitude</th>\n",
       "    </tr>\n",
       "  </thead>\n",
       "  <tbody>\n",
       "    <tr>\n",
       "      <th>898</th>\n",
       "      <td>Tokyo</td>\n",
       "      <td>35.6882</td>\n",
       "      <td>139.6903</td>\n",
       "      <td>Japan</td>\n",
       "      <td>Asia</td>\n",
       "      <td>6.1</td>\n",
       "    </tr>\n",
       "    <tr>\n",
       "      <th>252</th>\n",
       "      <td>Zurich</td>\n",
       "      <td>47.3783</td>\n",
       "      <td>8.5451</td>\n",
       "      <td>Switzerland</td>\n",
       "      <td>Europe</td>\n",
       "      <td>5.9</td>\n",
       "    </tr>\n",
       "    <tr>\n",
       "      <th>444</th>\n",
       "      <td>Antananarivo</td>\n",
       "      <td>-18.8806</td>\n",
       "      <td>47.5113</td>\n",
       "      <td>Madagascar</td>\n",
       "      <td>Africa</td>\n",
       "      <td>5.9</td>\n",
       "    </tr>\n",
       "    <tr>\n",
       "      <th>168</th>\n",
       "      <td>Nouakchott</td>\n",
       "      <td>18.0745</td>\n",
       "      <td>-15.9715</td>\n",
       "      <td>Mauritania</td>\n",
       "      <td>Africa</td>\n",
       "      <td>5.8</td>\n",
       "    </tr>\n",
       "    <tr>\n",
       "      <th>1188</th>\n",
       "      <td>Basseterre</td>\n",
       "      <td>17.2971</td>\n",
       "      <td>-62.7373</td>\n",
       "      <td>Saint Kitts and Nevis</td>\n",
       "      <td>North America</td>\n",
       "      <td>5.8</td>\n",
       "    </tr>\n",
       "  </tbody>\n",
       "</table>\n",
       "</div>"
      ],
      "text/plain": [
       "             Place  Latitude  Longitude                 Country  \\\n",
       "898          Tokyo   35.6882   139.6903                   Japan   \n",
       "252         Zurich   47.3783     8.5451             Switzerland   \n",
       "444   Antananarivo  -18.8806    47.5113              Madagascar   \n",
       "168     Nouakchott   18.0745   -15.9715              Mauritania   \n",
       "1188    Basseterre   17.2971   -62.7373   Saint Kitts and Nevis   \n",
       "\n",
       "           Continent  Magnitude  \n",
       "898             Asia        6.1  \n",
       "252           Europe        5.9  \n",
       "444           Africa        5.9  \n",
       "168           Africa        5.8  \n",
       "1188   North America        5.8  "
      ]
     },
     "execution_count": 21,
     "metadata": {},
     "output_type": "execute_result"
    }
   ],
   "source": [
    "# 5 strongest earthquakes\n",
    "df.sort_values('Magnitude', ascending= False).head(5)"
   ]
  },
  {
   "cell_type": "code",
   "execution_count": 22,
   "id": "62ea273c",
   "metadata": {},
   "outputs": [
    {
     "data": {
      "text/html": [
       "<div>\n",
       "<style scoped>\n",
       "    .dataframe tbody tr th:only-of-type {\n",
       "        vertical-align: middle;\n",
       "    }\n",
       "\n",
       "    .dataframe tbody tr th {\n",
       "        vertical-align: top;\n",
       "    }\n",
       "\n",
       "    .dataframe thead th {\n",
       "        text-align: right;\n",
       "    }\n",
       "</style>\n",
       "<table border=\"1\" class=\"dataframe\">\n",
       "  <thead>\n",
       "    <tr style=\"text-align: right;\">\n",
       "      <th></th>\n",
       "      <th>Place</th>\n",
       "      <th>Latitude</th>\n",
       "      <th>Longitude</th>\n",
       "      <th>Country</th>\n",
       "      <th>Continent</th>\n",
       "      <th>Magnitude</th>\n",
       "    </tr>\n",
       "  </thead>\n",
       "  <tbody>\n",
       "    <tr>\n",
       "      <th>607</th>\n",
       "      <td>Jakarta</td>\n",
       "      <td>-6.2060</td>\n",
       "      <td>106.8475</td>\n",
       "      <td>Indonesia</td>\n",
       "      <td>Asia</td>\n",
       "      <td>4.0</td>\n",
       "    </tr>\n",
       "    <tr>\n",
       "      <th>450</th>\n",
       "      <td>Lhasa</td>\n",
       "      <td>29.6516</td>\n",
       "      <td>91.1721</td>\n",
       "      <td>Tibet</td>\n",
       "      <td>Asia</td>\n",
       "      <td>4.1</td>\n",
       "    </tr>\n",
       "    <tr>\n",
       "      <th>1242</th>\n",
       "      <td>Santiago</td>\n",
       "      <td>-33.4472</td>\n",
       "      <td>-70.6659</td>\n",
       "      <td>Chile</td>\n",
       "      <td>South America</td>\n",
       "      <td>4.1</td>\n",
       "    </tr>\n",
       "    <tr>\n",
       "      <th>1135</th>\n",
       "      <td>Quito</td>\n",
       "      <td>-0.2295</td>\n",
       "      <td>-78.5243</td>\n",
       "      <td>Ecuador</td>\n",
       "      <td>South America</td>\n",
       "      <td>4.2</td>\n",
       "    </tr>\n",
       "    <tr>\n",
       "      <th>842</th>\n",
       "      <td>Port Moresby</td>\n",
       "      <td>-9.4438</td>\n",
       "      <td>147.1803</td>\n",
       "      <td>Papua New Guinea</td>\n",
       "      <td>Oceania</td>\n",
       "      <td>4.2</td>\n",
       "    </tr>\n",
       "  </tbody>\n",
       "</table>\n",
       "</div>"
      ],
      "text/plain": [
       "             Place  Latitude  Longitude            Country       Continent  \\\n",
       "607        Jakarta   -6.2060   106.8475          Indonesia            Asia   \n",
       "450          Lhasa   29.6516    91.1721              Tibet            Asia   \n",
       "1242      Santiago  -33.4472   -70.6659              Chile   South America   \n",
       "1135         Quito   -0.2295   -78.5243            Ecuador   South America   \n",
       "842   Port Moresby   -9.4438   147.1803   Papua New Guinea         Oceania   \n",
       "\n",
       "      Magnitude  \n",
       "607         4.0  \n",
       "450         4.1  \n",
       "1242        4.1  \n",
       "1135        4.2  \n",
       "842         4.2  "
      ]
     },
     "execution_count": 22,
     "metadata": {},
     "output_type": "execute_result"
    }
   ],
   "source": [
    "# 5 lowest earthquakes\n",
    "df.sort_values('Magnitude').head(5)"
   ]
  },
  {
   "cell_type": "code",
   "execution_count": 23,
   "id": "33927b63",
   "metadata": {},
   "outputs": [
    {
     "name": "stdout",
     "output_type": "stream",
     "text": [
      "Continent\n",
      " Antarctica       5.055714\n",
      " North America    5.042105\n",
      " Africa           5.036552\n",
      " South America    5.013333\n",
      " Asia             4.975484\n",
      " Europe           4.937778\n",
      " Oceania          4.902222\n",
      "Name: Magnitude, dtype: float64\n"
     ]
    }
   ],
   "source": [
    "continent_mean = df.groupby('Continent')['Magnitude'].mean()\n",
    "\n",
    "continent_mean_sorted = continent_mean.sort_values(ascending=False)\n",
    "print(continent_mean_sorted)"
   ]
  },
  {
   "cell_type": "code",
   "execution_count": 24,
   "id": "9a2b6c7e",
   "metadata": {},
   "outputs": [
    {
     "data": {
      "text/plain": [
       "Text(0.5, 1.0, 'Mean Magnitude by Continent')"
      ]
     },
     "execution_count": 24,
     "metadata": {},
     "output_type": "execute_result"
    },
    {
     "data": {
      "image/png": "[encoded data removed]",
      "text/plain": [
       "<Figure size 640x480 with 1 Axes>"
      ]
     },
     "metadata": {},
     "output_type": "display_data"
    }
   ],
   "source": [
    "plt.barh(continent_mean_sorted.index, continent_mean_sorted.values, color= 'purple')\n",
    "\n",
    "plt.xlabel('Mean magnitude')\n",
    "plt.ylabel('Continent')\n",
    "plt.title ('Mean Magnitude by Continent')"
   ]
  },
  {
   "cell_type": "markdown",
   "id": "4db1bd67",
   "metadata": {},
   "source": [
    "#### Range of magnitude"
   ]
  },
  {
   "cell_type": "code",
   "execution_count": 26,
   "id": "528caa7c",
   "metadata": {},
   "outputs": [
    {
     "data": {
      "text/plain": [
       "Text(0.5, 1.0, 'Histogram of Magnitude')"
      ]
     },
     "execution_count": 26,
     "metadata": {},
     "output_type": "execute_result"
    },
    {
     "data": {
      "image/png": "[encoded data removed]",
      "text/plain": [
       "<Figure size 640x480 with 1 Axes>"
      ]
     },
     "metadata": {},
     "output_type": "display_data"
    }
   ],
   "source": [
    "magnitude = df['Magnitude']\n",
    "\n",
    "plt.hist(magnitude, bins=20, color='blue', alpha=0.7)\n",
    "\n",
    "plt.xlabel('Magnitude')\n",
    "plt.ylabel('Frequency')\n",
    "plt.title('Histogram of Magnitude')"
   ]
  },
  {
   "cell_type": "code",
   "execution_count": null,
   "id": "db04dc97",
   "metadata": {},
   "outputs": [],
   "source": []
  }
 ],
 "metadata": {
  "kernelspec": {
   "display_name": "Python 3 (ipykernel)",
   "language": "python",
   "name": "python3"
  },
  "language_info": {
   "codemirror_mode": {
    "name": "ipython",
    "version": 3
   },
   "file_extension": ".py",
   "mimetype": "text/x-python",
   "name": "python",
   "nbconvert_exporter": "python",
   "pygments_lexer": "ipython3",
   "version": "3.11.5"
  }
 },
 "nbformat": 4,
 "nbformat_minor": 5
}
